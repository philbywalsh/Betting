{
 "cells": [
  {
   "cell_type": "markdown",
   "id": "0538409e",
   "metadata": {},
   "source": [
    "## Version 1: Weight it based on 1X2 probabilities"
   ]
  },
  {
   "cell_type": "code",
   "execution_count": 1,
   "id": "fcc549e1",
   "metadata": {},
   "outputs": [],
   "source": [
    "def calculate_expected_goals(prob_a_winning, prob_b_winning, prob_draw, total_goals):\n",
    "    # Calculate the expected goals for each outcome\n",
    "    goals_team_a_winning = total_goals * prob_a_winning\n",
    "    goals_team_b_winning = total_goals * prob_b_winning\n",
    "    goals_draw = total_goals * prob_draw\n",
    "\n",
    "    # Sum the expected goals for each team\n",
    "    expected_goals_team_a = goals_team_a_winning + (0.5 * goals_draw)\n",
    "    expected_goals_team_b = goals_team_b_winning + (0.5 * goals_draw)\n",
    "\n",
    "    return expected_goals_team_a, expected_goals_team_b"
   ]
  },
  {
   "cell_type": "code",
   "execution_count": 2,
   "id": "5f4f4bc4",
   "metadata": {},
   "outputs": [
    {
     "name": "stdout",
     "output_type": "stream",
     "text": [
      "Expected goals for Team A: 0.7614219996012759\n",
      "Expected goals for Team B: 1.8765601286064237\n"
     ]
    }
   ],
   "source": [
    "# Example probabilities and total goals\n",
    "prob_a_winning = 0.17543859649122806\n",
    "prob_b_winning = 0.5988023952095809\n",
    "prob_draw = 0.22727272727272727\n",
    "total_goals = 2.633995\n",
    "\n",
    "expected_goals_team_a, expected_goals_team_b = calculate_expected_goals(prob_a_winning, prob_b_winning, prob_draw, total_goals)\n",
    "\n",
    "print(\"Expected goals for Team A:\", expected_goals_team_a)\n",
    "print(\"Expected goals for Team B:\", expected_goals_team_b)"
   ]
  },
  {
   "cell_type": "markdown",
   "id": "5b681216",
   "metadata": {},
   "source": [
    "## Version 2 : Find optimal average goals per team, based on target win probabilities"
   ]
  },
  {
   "cell_type": "code",
   "execution_count": 9,
   "id": "a279f08a",
   "metadata": {},
   "outputs": [
    {
     "name": "stdout",
     "output_type": "stream",
     "text": [
      "Best fit mu_A: 0.8500000000000001, mu_B: 1.783995\n",
      "Expected goals for Home Team (A): 0.8499999786511608\n",
      "Expected goals for Away Team (B): 1.7839629104561419\n",
      "Zoomed in best fit mu_A: 0.84, mu_B: 1.7939950000000002\n",
      "Expected goals for Home Team (A): 0.839999981087032\n",
      "Expected goals for Away Team (B): 1.7939611795736825\n"
     ]
    }
   ],
   "source": [
    "# This script finds the optimal values for 𝜇𝐴 and 𝜇𝐵 that best match the target win probabilities and then uses these values to \n",
    "# calculate the expected goals for the Home and Away teams.\n",
    "# Notation: 𝜇𝐴 = mean/average goals scored by Team A\n",
    "\n",
    "import numpy as np\n",
    "from scipy.stats import poisson\n",
    "\n",
    "def calculate_expected_goals(mu_A, mu_B, max_goals=10):\n",
    "    prob_A = [poisson.pmf(k, mu_A) for k in range(max_goals + 1)]\n",
    "    prob_B = [poisson.pmf(k, mu_B) for k in range(max_goals + 1)]\n",
    "    \n",
    "    E_A = sum(k * prob_A[k] for k in range(max_goals + 1))\n",
    "    E_B = sum(k * prob_B[k] for k in range(max_goals + 1))\n",
    "    \n",
    "    return E_A, E_B\n",
    "\n",
    "def optimize_expected_goals(target_p_A, target_p_B, mu_total, epsilon=0.1, max_goals=10):\n",
    "    mu_A_values = np.arange(0, mu_total + epsilon, epsilon)\n",
    "    best_fit = None\n",
    "    best_error = float('inf')\n",
    "    \n",
    "    for mu_A in mu_A_values:\n",
    "        mu_B = mu_total - mu_A\n",
    "        P_A_wins, P_B_wins, P_draw = calculate_win_draw_probabilities(mu_A, mu_B, max_goals)\n",
    "        \n",
    "        error = (P_A_wins - target_p_A) ** 2 + (P_B_wins - target_p_B) ** 2\n",
    "        if error < best_error:\n",
    "            best_error = error\n",
    "            best_fit = (mu_A, mu_B)\n",
    "    \n",
    "    best_mu_A, best_mu_B = best_fit\n",
    "    E_A, E_B = calculate_expected_goals(best_mu_A, best_mu_B, max_goals)\n",
    "    \n",
    "    return best_mu_A, best_mu_B, E_A, E_B\n",
    "\n",
    "def calculate_win_draw_probabilities(mu_A, mu_B, max_goals=10):\n",
    "    prob_A = [poisson.pmf(k, mu_A) for k in range(max_goals + 1)]\n",
    "    prob_B = [poisson.pmf(k, mu_B) for k in range(max_goals + 1)]\n",
    "    \n",
    "    P_A_wins = 0\n",
    "    P_B_wins = 0\n",
    "    P_draw = 0\n",
    "    \n",
    "    for i in range(max_goals + 1):\n",
    "        for j in range(max_goals + 1):\n",
    "            if i > j:\n",
    "                P_A_wins += prob_A[i] * prob_B[j]\n",
    "            elif i < j:\n",
    "                P_B_wins += prob_A[i] * prob_B[j]\n",
    "            else:\n",
    "                P_draw += prob_A[i] * prob_B[j]\n",
    "    \n",
    "    return P_A_wins, P_B_wins, P_draw\n",
    "\n",
    "# Example usage\n",
    "target_p_A = 0.17543859649122806\n",
    "target_p_B = 0.5988023952095809\n",
    "mu_total = 2.633995\n",
    "epsilon = 0.05\n",
    "\n",
    "best_mu_A, best_mu_B, E_A, E_B = optimize_expected_goals(target_p_A, target_p_B, mu_total, epsilon)\n",
    "print(f\"Best fit mu_A: {best_mu_A}, mu_B: {best_mu_B}\")\n",
    "print(f\"Expected goals for Home Team (A): {E_A}\")\n",
    "print(f\"Expected goals for Away Team (B): {E_B}\")\n",
    "\n",
    "# Optional: Zoom in for a smaller epsilon around the best fit\n",
    "epsilon_zoom = 0.01\n",
    "mu_total_zoom = best_mu_A + best_mu_B\n",
    "best_mu_A_zoom, best_mu_B_zoom, E_A_zoom, E_B_zoom = optimize_expected_goals(target_p_A, target_p_B, mu_total_zoom, epsilon_zoom)\n",
    "\n",
    "print(f\"Zoomed in best fit mu_A: {best_mu_A_zoom}, mu_B: {best_mu_B_zoom}\")\n",
    "print(f\"Expected goals for Home Team (A): {E_A_zoom}\")\n",
    "print(f\"Expected goals for Away Team (B): {E_B_zoom}\")\n"
   ]
  },
  {
   "cell_type": "code",
   "execution_count": null,
   "id": "970c185f",
   "metadata": {},
   "outputs": [],
   "source": []
  }
 ],
 "metadata": {
  "kernelspec": {
   "display_name": "Python 3 (ipykernel)",
   "language": "python",
   "name": "python3"
  },
  "language_info": {
   "codemirror_mode": {
    "name": "ipython",
    "version": 3
   },
   "file_extension": ".py",
   "mimetype": "text/x-python",
   "name": "python",
   "nbconvert_exporter": "python",
   "pygments_lexer": "ipython3",
   "version": "3.7.4"
  }
 },
 "nbformat": 4,
 "nbformat_minor": 5
}
